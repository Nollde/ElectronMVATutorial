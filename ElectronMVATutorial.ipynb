{
 "cells": [
  {
   "cell_type": "markdown",
   "metadata": {},
   "source": [
    "# Electron MVA Tutorial\n",
    "\n",
    "Hello, good to see you again! This is the main part of the tutorial, where we inspect and understand the ntuples a bit, before finally training a few BTDs to separate real prompt electrons from fakes."
   ]
  },
  {
   "cell_type": "markdown",
   "metadata": {},
   "source": [
    "## Prerequesites"
   ]
  },
  {
   "cell_type": "markdown",
   "metadata": {},
   "source": [
    "### Install Python packages\n",
    "\n",
    "We need to install two additional Python packages to run this notebook:\n",
    "\n",
    "* [uproot](https://github.com/scikit-hep/uproot) to open ROOT files\n",
    "* [tqdm](https://github.com/tqdm/tqdm) to draw progessbars\n",
    "\n",
    "The other packages we rely on, in particular [xgboost](https://xgboost.readthedocs.io/en/latest/) for training BDTs, [pandas](https://pandas.pydata.org/) and [sklearn](https://scikit-learn.org/stable/index.html) are already installed in the SWAN environment.\n",
    "\n",
    "You can execute bash commands withing the notebook by putting an exclamation mark `!` in front of them. You can uncomment the following cell and run it to invoke `pip` to install the missing packages:"
   ]
  },
  {
   "cell_type": "code",
   "execution_count": 1,
   "metadata": {},
   "outputs": [],
   "source": [
    "#!pip install --user uproot tqdm"
   ]
  },
  {
   "cell_type": "markdown",
   "metadata": {},
   "source": [
    "After the installations are finished, you have to restart the notebook kernel with the little circular arrow button in the toolbar above. You may now comment out the pip command again so it's not always run when you execute all cells in this notebook."
   ]
  },
  {
   "cell_type": "markdown",
   "metadata": {},
   "source": [
    "### Login with you CERN account to get Ntuples from EOS\n",
    "\n",
    "In the first part of this tutorial, we showed you how to create the Electron MVA ntuples and you produced them yourself for one ROOT file. One file is unfortunately not enough for training the MVA.\n",
    "\n",
    "We processed the whole Run 3 __DY+Jets__ MC sample for you and put the ROOT files into the EOS user space. To access them, please login to EOS by running the cells below (don't forget to change the username to yours):"
   ]
  },
  {
   "cell_type": "code",
   "execution_count": 2,
   "metadata": {},
   "outputs": [],
   "source": [
    "username = \"rembserj\""
   ]
  },
  {
   "cell_type": "code",
   "execution_count": 3,
   "metadata": {},
   "outputs": [
    {
     "name": "stdout",
     "output_type": "stream",
     "text": [
      "········\n"
     ]
    }
   ],
   "source": [
    "import getpass\n",
    "import os\n",
    "if os.system('klist | grep Default | grep ' + username + '@CERN.CH'):\n",
    "    os.system('echo %s' % getpass.getpass() + \" | kinit \" + username)"
   ]
  },
  {
   "cell_type": "markdown",
   "metadata": {},
   "source": [
    "## Electron MVA Ntuple Data\n",
    "\n",
    "Let's import __uproot__ to open ROOT files, __glob__ to  search for files, __pandas__ for DataFrames and __tqdm__ for progress bars."
   ]
  },
  {
   "cell_type": "code",
   "execution_count": 4,
   "metadata": {},
   "outputs": [],
   "source": [
    "import uproot\n",
    "import glob\n",
    "import pandas as pd\n",
    "from tqdm import tqdm"
   ]
  },
  {
   "cell_type": "markdown",
   "metadata": {},
   "source": [
    "We need a lot of events to train the Electron MVA well, but using the full dataset would take too long in this tutorial. Let's just get the names of __10 files__."
   ]
  },
  {
   "cell_type": "code",
   "execution_count": 5,
   "metadata": {},
   "outputs": [],
   "source": [
    "n_files = 20\n",
    "root_files = glob.glob(\"/eos/user/r/rembserj/ntuples/electron_mva_run3/*.root\")[:n_files]"
   ]
  },
  {
   "cell_type": "markdown",
   "metadata": {},
   "source": [
    "You can open a file with `uproot.open` and get the ROOT file directory structure by callling `allkeys`.\n",
    "Like in C++ ROOT, ignore the semicolon and the numbers after it in the names."
   ]
  },
  {
   "cell_type": "code",
   "execution_count": 6,
   "metadata": {},
   "outputs": [
    {
     "data": {
      "text/plain": [
       "['ntuplizer;1', 'ntuplizer/tree;1']"
      ]
     },
     "execution_count": 6,
     "metadata": {},
     "output_type": "execute_result"
    }
   ],
   "source": [
    "f = uproot.open(root_files[0])\n",
    "f.allkeys()"
   ]
  },
  {
   "cell_type": "markdown",
   "metadata": {},
   "source": [
    "There we go, the TTree with the electron data we seek must be `ntuplizer/tree`!\n",
    "\n",
    "With that knowledge we can write a function that takes the path to a Electron MVA Ntuple file and returns a DataFrame with all the data except for some columns we won't use."
   ]
  },
  {
   "cell_type": "code",
   "execution_count": 7,
   "metadata": {},
   "outputs": [],
   "source": [
    "unneccesary_columns = ['ele_index',\n",
    "       'Spring16GPV1Vals', 'Spring16GPV1RawVals', 'Spring16HZZV1Vals',\n",
    "       'Spring16HZZV1RawVals', 'Fall17NoIsoV2Vals',\n",
    "       'Fall17IsoV2Vals', 'Fall17IsoV1Vals',\n",
    "       'Fall17NoIsoV1Vals', 'Spring16GPV1wp80', 'Spring16GPV1wp90',\n",
    "       'Spring16HZZV1wpLoose', 'Fall17noIsoV2wp80', 'Fall17noIsoV2wpLoose',\n",
    "       'Fall17noIsoV2wp90', 'Fall17isoV2wpHZZ', 'Fall17isoV2wp80',\n",
    "       'Fall17isoV2wpLoose', 'Fall17isoV2wp90', 'Fall17noIsoV1wp90',\n",
    "       'Fall17noIsoV1wp80', 'Fall17noIsoV1wpLoose', 'Fall17isoV1wp90',\n",
    "       'Fall17isoV1wp80', 'Fall17isoV1wpLoose', 'nEvent', 'nRun', 'nLumi']\n",
    "\n",
    "def get_df(root_file_name):\n",
    "    f = uproot.open(root_file_name)\n",
    "    if len(f.allkeys()) == 0:\n",
    "        return pd.DataFrame()\n",
    "    df = uproot.open(root_file_name)[\"ntuplizer/tree\"].pandas.df()\n",
    "    return df.drop(unneccesary_columns, axis=1)"
   ]
  },
  {
   "cell_type": "markdown",
   "metadata": {},
   "source": [
    "Let's use this function in a loop to load all files and combine the DataFrames with `pandas.concat`:"
   ]
  },
  {
   "cell_type": "code",
   "execution_count": 8,
   "metadata": {},
   "outputs": [
    {
     "name": "stderr",
     "output_type": "stream",
     "text": [
      "100%|██████████| 20/20 [00:13<00:00,  1.49it/s]\n"
     ]
    }
   ],
   "source": [
    "df = pd.concat((get_df(f) for f in  tqdm(root_files)), ignore_index=True)"
   ]
  },
  {
   "cell_type": "markdown",
   "metadata": {},
   "source": [
    "We can check what columns we have in this data (or \"branches\" if you come from ROOT):"
   ]
  },
  {
   "cell_type": "code",
   "execution_count": 9,
   "metadata": {},
   "outputs": [
    {
     "data": {
      "text/plain": [
       "Index([u'genNpu', u'vtxN', u'ele_q', u'ele_3q', u'matchedToGenEle', u'rho',\n",
       "       u'ele_pt', u'ele_oldsigmaietaieta', u'ele_oldsigmaiphiiphi',\n",
       "       u'ele_oldcircularity', u'ele_oldr9', u'ele_scletawidth',\n",
       "       u'ele_sclphiwidth', u'ele_hadronicOverEm', u'ele_oldhe', u'ele_kfhits',\n",
       "       u'ele_kfchi2', u'ele_gsfchi2', u'ele_fbrem', u'ele_gsfhits',\n",
       "       u'ele_expected_inner_hits', u'ele_conversionVertexFitProbability',\n",
       "       u'ele_ep', u'ele_eelepout', u'ele_IoEmIop', u'ele_deltaetain',\n",
       "       u'ele_deltaphiin', u'ele_deltaetaseed', u'ele_psEoverEraw',\n",
       "       u'ele_pfPhotonIso', u'ele_pfChargedHadIso', u'ele_pfNeutralHadIso',\n",
       "       u'scl_E', u'scl_Et', u'scl_eta', u'scl_phi', u'ele_sclRawE',\n",
       "       u'ele_sclNclus', u'ele_olde15', u'ele_olde25max', u'ele_olde55',\n",
       "       u'ele_ecalE', u'ele_ecalErr', u'ele_trackErr', u'ele_combErr',\n",
       "       u'ele_PFcombErr', u'ele_pfSumPUIso', u'ele_SCfbrem', u'ele_eClass',\n",
       "       u'ele_nbrem', u'ele_oldhebc', u'ele_hebc', u'ele_isEB', u'ele_isEE',\n",
       "       u'ele_isEBEtaGap', u'ele_isEBPhiGap', u'ele_isEBEEGap',\n",
       "       u'ele_isEEDeeGap', u'ele_isEERingGap', u'Fall17NoIsoV2RawVals',\n",
       "       u'Fall17IsoV2RawVals', u'EleMVACats'],\n",
       "      dtype='object')"
      ]
     },
     "execution_count": 9,
     "metadata": {},
     "output_type": "execute_result"
    }
   ],
   "source": [
    "df.columns"
   ]
  },
  {
   "cell_type": "markdown",
   "metadata": {},
   "source": [
    "That's a lot of information! Let's not try to understand everything at one, but explain when needed."
   ]
  },
  {
   "cell_type": "markdown",
   "metadata": {},
   "source": [
    "## Categorizing Electrons as Signal or Background"
   ]
  },
  {
   "cell_type": "markdown",
   "metadata": {},
   "source": [
    "To say it once more: signal will be reconstructed electrons that match to a true prompt electron, while the background will be all unmatched and non-prompt electrons. Electrons from tau decays should be ignored.\n",
    "\n",
    "The electron ntuplizer stores the category to which the electron belongs in the `matchedToGenEle` branch, and you can check the [ntuplizer source code](https://github.com/cms-sw/cmssw/blob/master/RecoEgamma/ElectronIdentification/plugins/ElectronMVANtuplizer.cc#L139) to learn which number corresponds to which category (starting from `UNMATCHED = 0`).\n",
    "\n",
    "The electrons from taus correspond to `matchedToGenEle = 2`, so let's drop them from the data frame. You can use the `query` methods of dataframes to select a subset of the dataframe based on a selection query:"
   ]
  },
  {
   "cell_type": "code",
   "execution_count": 10,
   "metadata": {},
   "outputs": [],
   "source": [
    "df = df.query(\"matchedToGenEle != 2\")"
   ]
  },
  {
   "cell_type": "markdown",
   "metadata": {},
   "source": [
    "Also we don't care about the distinction between non-prompt and unmatched electrons, so let's set both categories to the value zeros."
   ]
  },
  {
   "cell_type": "code",
   "execution_count": 11,
   "metadata": {},
   "outputs": [],
   "source": [
    "df.loc[df[\"matchedToGenEle\"] != 1, \"matchedToGenEle\"] = 0"
   ]
  },
  {
   "cell_type": "markdown",
   "metadata": {},
   "source": [
    "Very good, now `matchedToGenEle = 1` corresponds to signal and `matchedToGenEle = 0` to background.\n",
    "\n",
    "Finally, we drop the electrons that fall outside the detector acceptance beyond $|\\eta|$ = 2.5 and throw out the electrons below 10 GeV as they are usually not used."
   ]
  },
  {
   "cell_type": "code",
   "execution_count": 12,
   "metadata": {},
   "outputs": [],
   "source": [
    "df = df.query(\"abs(scl_eta) < 2.5\")\n",
    "df = df.query(\"ele_pt >= 10\")"
   ]
  },
  {
   "cell_type": "markdown",
   "metadata": {},
   "source": [
    "Here is a little helper function to plot histograms with distributions for signal and background electrons."
   ]
  },
  {
   "cell_type": "code",
   "execution_count": 13,
   "metadata": {},
   "outputs": [],
   "source": [
    "import matplotlib.pyplot as plt\n",
    "import numpy as np\n",
    "\n",
    "def get_label(name):\n",
    "    if name == 0:\n",
    "        return \"background\"\n",
    "    else:\n",
    "        return \"signal\"\n",
    "\n",
    "def plot_electrons(df, column, bins, logscale=False, ax=None, title=None):\n",
    "    if ax is None:\n",
    "        ax = plt.gca()\n",
    "    for name, group in df.groupby(\"matchedToGenEle\"):\n",
    "        group[column].hist(bins=bins, histtype=\"step\", label=get_label(name), ax=ax, density=True)\n",
    "    ax.set_ylabel(\"density\")\n",
    "    ax.set_xlabel(column)\n",
    "    ax.legend()\n",
    "    ax.set_title(title)\n",
    "    if logscale:\n",
    "        ax.set_yscale(\"log\", nonposy='clip')"
   ]
  },
  {
   "cell_type": "markdown",
   "metadata": {},
   "source": [
    "Let's take a look at the $p_T$ and $\\eta$ distributions to see if they look as expected:"
   ]
  },
  {
   "cell_type": "code",
   "execution_count": 14,
   "metadata": {},
   "outputs": [
    {
     "data": {
      "image/png": "[encoded data removed]",
      "text/plain": [
       "<Figure size 1080x360 with 2 Axes>"
      ]
     },
     "metadata": {
      "needs_background": "light"
     },
     "output_type": "display_data"
    }
   ],
   "source": [
    "fig, axes = plt.subplots(1, 2, figsize=(15, 5))\n",
    "plot_electrons(df, \"ele_pt\", np.linspace(0, 100, 200), ax=axes[0])\n",
    "plot_electrons(df, \"scl_eta\", np.linspace(-2.5, 2.5, 50), ax=axes[1])\n",
    "plt.show()"
   ]
  },
  {
   "cell_type": "markdown",
   "metadata": {},
   "source": [
    "Seems reasonable! The true prompt electrons have the $p_T$ peak that you expect from Z boson decays, and the fakes have the expected exponential spectrum and are predominantly at high pseudorapidity.\n",
    "\n",
    "It's also interesting to look at the distributions for the MVA input variables (also called \"features\"). The `ele_oldsigmaietaieta` for example represents the spread of the electromagnetic shower and is more peaked and has smaller values for true electrons.\n",
    "\n",
    "Let's look at `ele_oldsigmaietaieta` separately for barrel and endcap:"
   ]
  },
  {
   "cell_type": "code",
   "execution_count": 15,
   "metadata": {},
   "outputs": [
    {
     "data": {
      "image/png": "[encoded data removed]",
      "text/plain": [
       "<Figure size 1080x360 with 2 Axes>"
      ]
     },
     "metadata": {
      "needs_background": "light"
     },
     "output_type": "display_data"
    }
   ],
   "source": [
    "fig, axes = plt.subplots(1, 2, figsize=(15, 5))\n",
    "plot_electrons(df.query(\"ele_isEB\"), \"ele_oldsigmaietaieta\", 100, ax=axes[0], title=\"Barrel\")\n",
    "plot_electrons(df.query(\"ele_isEE\"), \"ele_oldsigmaietaieta\", 100, ax=axes[1], title=\"Endcap\")\n",
    "plt.show()"
   ]
  },
  {
   "cell_type": "markdown",
   "metadata": {},
   "source": [
    "Look at the X axis! The values are very different for barrel and endcap, which is the case also for other features. That's why we will have different trainings for barrel and endcap (also called EB and EE for Electronmagnetic Barrel/Endcap). In Run 2, we even split up the barrel in two different training regions (so 3 in total), because depending on the inner tracker the material budget is very different for the central Ecal barrel and the outer barrel. Naturally, the material budget influences the electron ID variables a lot.\n",
    "\n",
    "At this point, feel free to look at other variables from the feature list below! Do you know what they represent? Unfortunately they are not explained in this tutorial, but there are many experts in CMS who are happy to explain them to you."
   ]
  },
  {
   "cell_type": "markdown",
   "metadata": {},
   "source": [
    "## Training the Boosted Decision Tree Classifiers\n",
    "\n",
    "Let's write down a list with the the names of the features we will use. There are separate lists for EB and EE, because in the endcap we can use the fraction of the preshower energy as an additional feature. There is not preshower detector in the barrel."
   ]
  },
  {
   "cell_type": "code",
   "execution_count": 16,
   "metadata": {},
   "outputs": [],
   "source": [
    "features_barrel = [\"ele_oldsigmaietaieta\", \"ele_oldsigmaiphiiphi\",\n",
    "            \"ele_oldcircularity\", \"ele_oldr9\", \"ele_scletawidth\",\n",
    "            \"ele_sclphiwidth\", \"ele_oldhe\", \"ele_kfhits\", \"ele_kfchi2\",\n",
    "            \"ele_gsfchi2\", \"ele_fbrem\", \"ele_gsfhits\",\n",
    "            \"ele_expected_inner_hits\", \"ele_conversionVertexFitProbability\",\n",
    "            \"ele_ep\", \"ele_eelepout\", \"ele_IoEmIop\", \"ele_deltaetain\",\n",
    "            \"ele_deltaphiin\", \"ele_deltaetaseed\", \"rho\",\n",
    "            \"ele_pfPhotonIso\", \"ele_pfChargedHadIso\", \"ele_pfNeutralHadIso\"]\n",
    "            \n",
    "features_endcap = features_barrel + [\"ele_psEoverEraw\"]"
   ]
  },
  {
   "cell_type": "markdown",
   "metadata": {},
   "source": [
    "We got to import some more libraries now. Most importantly, we got to import __XGBooost__, to train gradient boosted decision trees. It is one of the three highly optimized libraries for this task, the others being [LightGBM](https://github.com/Microsoft/LightGBM) and [CatBoost](https://catboost.ai/). Feel free to try them out at some point, they should have a similar interface!\n",
    "\n",
    "We also import the `train_test_split` function from __sklearn__ to shuffle and split the ntuple in a training and testing subset.\n",
    "\n",
    "Lastly we import xgboost2tmva, which is included in this repository but was originally spotted [here](https://gist.github.com/andreh7/da90266301ac0204e054ab6f02fc6faa). It's meant to save the XGBoost models in the XML format used by TMVA, which is also the format we use in CMSSW for now."
   ]
  },
  {
   "cell_type": "code",
   "execution_count": 17,
   "metadata": {},
   "outputs": [],
   "source": [
    "from sklearn.model_selection import train_test_split\n",
    "import xgboost as xgb\n",
    "import xgboost2tmva"
   ]
  },
  {
   "cell_type": "markdown",
   "metadata": {},
   "source": [
    "Next, we define the training parameters for XGBoost. Besides `n_boost_rounds`, there are a lot of hyperparameters that can be set, follow [this link](https://xgboost.readthedocs.io/en/latest/parameter.html#parameters-for-tree-booster) for a reference.\n",
    "\n",
    "We don't change the defaults much. We just want to set `n_boost_rounds` to a relatively small value so the training does not take forever in a initial test run, set `eval_metric` to the Area Under the ROC Curver (AUC) and set the objective to binary classification. In a final training, you would rather set `n_boost_rounds` to a high number like 1000 and rely on early stopping to stop boosting when appropriate.\n",
    "\n",
    "If you want, you can try out different hyperparameters later on! There are many resources on the internet about hyperparamter tuning for XGBoost."
   ]
  },
  {
   "cell_type": "code",
   "execution_count": 18,
   "metadata": {},
   "outputs": [],
   "source": [
    "n_boost_rounds = 10\n",
    "xgboost_params = {'eval_metric':'auc',\n",
    "                  #'max_depth' : 4,\n",
    "                  'objective'  :'binary:logitraw'}"
   ]
  },
  {
   "cell_type": "markdown",
   "metadata": {},
   "source": [
    "In Run 2, the MVA was trained in 6 categories. The splitting in three $|\\eta|$ regions was already discussed before. Additionally, there are 3 separate trainings for $5 < p_T < 10$ GeV in Run 2. We define a list of category names to reasonably label the plots later. However, we will just do the trainings for $p_T$ > 10 GeV here."
   ]
  },
  {
   "cell_type": "code",
   "execution_count": 19,
   "metadata": {},
   "outputs": [],
   "source": [
    "category_titles = [\"EB1_5\", \"EB2_5\", \"EE_5\", \"EB1_10\", \"EB2_10\", \"EE_10\"]"
   ]
  },
  {
   "cell_type": "markdown",
   "metadata": {},
   "source": [
    "Now this is where the train the BDTs. Please reade the inline comments for further explanations."
   ]
  },
  {
   "cell_type": "code",
   "execution_count": 20,
   "metadata": {},
   "outputs": [
    {
     "name": "stdout",
     "output_type": "stream",
     "text": [
      "EB1_10:\n",
      "training on 99639 signal and 10313 background electrons\n",
      "\n",
      "EB2_10:\n",
      "training on 79643 signal and 10307 background electrons\n",
      "\n",
      "EE_10:\n",
      "training on 101653 signal and 17875 background electrons\n",
      "\n"
     ]
    }
   ],
   "source": [
    "# The index of the training category (0 to 5) is stored in the \"EleMVACats\" column.\n",
    "# We group the data frame by this column, which means in the loop we first have \"group_df\" where \"EleMVACats\" == 0, then 1, up to 5.\n",
    "for i, group_df in df.groupby(\"EleMVACats\"):\n",
    "    \n",
    "    # As said before, let's skip the low-pt trainings\n",
    "    if i < 3:\n",
    "        continue\n",
    "\n",
    "    # get the category name\n",
    "    category = category_titles[i]\n",
    "    \n",
    "    # get the features (either for endcap or barrel)\n",
    "    features = features_endcap if \"EE\" in category else features_barrel\n",
    "    \n",
    "    # get the features and the target from the data frame\n",
    "    X = group_df[features]\n",
    "    y = group_df[\"matchedToGenEle\"]\n",
    "\n",
    "    # split X and y up in train and test samples\n",
    "    X_train, X_test, y_train, y_test = train_test_split(X, y, test_size=0.33, random_state=42)\n",
    "    \n",
    "    # Fortunately we are dealing with pandas DataFrames here, so we can just get the indices correspondng to the testing and training samples.\n",
    "    # This will come in handy when we want to figure out which rows in the original dataframe where used for trainingand testing.\n",
    "    idx_train = X_train.index\n",
    "    idx_test = X_test.index\n",
    "\n",
    "    # XGBoost has it's own data format, so we have to create these structures.\n",
    "    # The copies have no specific purpose other than silencing an xgboost warning.\n",
    "    dmatrix_train = xgb.DMatrix(X_train.copy(), label=np.copy(y_train))\n",
    "    dmatrix_test  = xgb.DMatrix(X_test.copy(), label=np.copy(y_test ))\n",
    "\n",
    "    # Get the number of positive and nevative training examples in this category\n",
    "    n_pos = np.sum(y_train == 1)\n",
    "    n_neg = np.sum(y_train == 0)\n",
    "\n",
    "    print(category + \":\")\n",
    "    print(\"training on {0} signal and {1} background electrons\".format(n_pos, n_neg))\n",
    "\n",
    "    # There is one additional hyperparameter that we have to set per catoegy: `scale_pos_weight`.\n",
    "    # It corresponds  to a weight given to every positive sample, and it usually set to\n",
    "    # n_neg / n_pos when you have imbalanced datasets to balance the total contributions\n",
    "    # of the positive and negative classes in the loss function\n",
    "    xgboost_params[\"scale_pos_weight\"] = 1. * n_neg / n_pos\n",
    "\n",
    "    # In this line, we actually train the model.\n",
    "    # Notice the `early_stopping_rounds`, which cause the boosting to automatically stop\n",
    "    # when the test AUC has not decreased for 10 rounds. How does xgboost know what the training set is?\n",
    "    # You pass it some dmatrices with labels as a list of tuples to the `evals` keyword argument.\n",
    "    # The last entry in this list will be used for the early stopping criterion, in our case `dmatrix_test`.\n",
    "    model = xgb.train(xgboost_params,\n",
    "                      dmatrix_train,\n",
    "                      num_boost_round=n_boost_rounds,\n",
    "                      evals= [(dmatrix_train, 'train'),\n",
    "                              (dmatrix_test, 'test')],\n",
    "                      early_stopping_rounds=10,\n",
    "                      verbose_eval=False)\n",
    "    \n",
    "    # We want to know if and when the training was early stopped.\n",
    "    # `best_iteration` counts the first iteration as zero, so we increment by one.\n",
    "    best_iteration = model.best_iteration + 1\n",
    "    if best_iteration < n_boost_rounds:\n",
    "        print(\"early stopping after {0} boosting rounds\".format(best_iteration))\n",
    "    print(\"\")\n",
    "    \n",
    "    # Just in case we want to later implement the BDTs in CMSSW, we use the xgboost2tmva script\n",
    "    # to save the model as a TMVA compatible XML file.\n",
    "    # Note that the XML will not be pretty, as everything is printed in one line.\n",
    "    # You can use the commandline tool `xmllint` with the `--format` option if you want to make it pretty.\n",
    "    xgboost2tmva.convert_model(model.get_dump(),\n",
    "                               input_variables=[(f,'F') for f in features],\n",
    "                               output_xml='electron_id_{0}.xml'.format(i))\n",
    "    \n",
    "    # If we want to load the model again with the xgboost library, we can't use the XML file.\n",
    "    # Hence, we also save the model in xgboosts own binary format just to be sure.\n",
    "    model.save_model(\"electron_id_{0}.bin\".format(i))\n",
    "\n",
    "    # Now we see why it's good to have the indices corresponding to the train and test set!\n",
    "    # We can now calculate classification scores with our freshly-trained model and store them\n",
    "    # in a new column `score` of the original DataFrame at the appropriate places.\n",
    "    df.loc[idx_train, \"score\"] = model.predict(dmatrix_train)\n",
    "    df.loc[idx_test, \"score\"] = model.predict(dmatrix_test)\n",
    "    \n",
    "    # When we look at how the model performs later, we are mostly interested in the performance on the\n",
    "    # test set. We can add another boolean column to indicate whether an electron is in the test set or not.\n",
    "    df.loc[idx_train, \"test\"] = False\n",
    "    df.loc[idx_test, \"test\"] = True"
   ]
  },
  {
   "cell_type": "markdown",
   "metadata": {},
   "source": [
    "## ROC Curves"
   ]
  },
  {
   "cell_type": "markdown",
   "metadata": {},
   "source": [
    "Time for some ROC curves! The sklearn library has a very useful function [`metrics.roc_curve`](https://scikit-learn.org/stable/modules/generated/sklearn.metrics.roc_curve.html) which you pass the scores and the true labels, and it will return you:\n",
    "* the false positive rate (`fpr`), also known as _background efficiency_\n",
    "* the true positive rate (`tpr`), also known as _signal efficiency_\n",
    "* the score thresholds corresponding to a given point on the curve, also known as _working point_\n",
    "We define a little helper function to quickly plot ROC curves as we like to have them for the Electron MVA: with logarithmic y-axis and only showing signal efficiencies greater than 0.7."
   ]
  },
  {
   "cell_type": "code",
   "execution_count": 21,
   "metadata": {},
   "outputs": [],
   "source": [
    "from sklearn import metrics\n",
    "\n",
    "def plot_roc_curve(df, score_column, tpr_threshold=0.7, ax=None, color=None, linestyle='-', label=None):\n",
    "    if ax is None:\n",
    "        ax = plt.gca()\n",
    "    if label is None:\n",
    "        label = score_column\n",
    "    fpr, tpr, thresholds = metrics.roc_curve(df[\"matchedToGenEle\"], df[score_column])\n",
    "    mask = tpr > tpr_threshold\n",
    "    fpr, tpr = fpr[mask], tpr[mask]\n",
    "    ax.semilogy(tpr, fpr, label=label, color=color, linestyle=linestyle)"
   ]
  },
  {
   "cell_type": "markdown",
   "metadata": {},
   "source": [
    "Finally we plot three different ROC curves in the 3 training categories:\n",
    "1. The Run 2 MVA scores, which are stored in the ntuple in the `Fall17IsoV2RawVals` column\n",
    "2. Our new training applied to the testing set\n",
    "3. Our new training applied to the training se in order to check for overtraining.\n",
    "\n",
    "__A note about overtraining__: Overtraining is not bad by itself! Usually you get the best performance on a test set for a model that is slightly overtrained. Too much overtraining however indicates that your model does not generalize well. You can more information on this topic if you research the \"bias vs. variance tradeof\" in machine learning."
   ]
  },
  {
   "cell_type": "code",
   "execution_count": 22,
   "metadata": {},
   "outputs": [
    {
     "data": {
      "image/png": "[encoded data removed]",
      "text/plain": [
       "<Figure size 1080x360 with 3 Axes>"
      ]
     },
     "metadata": {
      "needs_background": "light"
     },
     "output_type": "display_data"
    }
   ],
   "source": [
    "fig, axes = plt.subplots(1, 3, figsize=(15, 5))\n",
    "\n",
    "for i, df_group in df.groupby(\"EleMVACats\"):\n",
    "    \n",
    "    if i < 3:\n",
    "        continue\n",
    "    \n",
    "    df_train = df_group.query(\"not test\")\n",
    "    df_test = df_group.query(\"test\")\n",
    "    \n",
    "    ax = axes[i%3]\n",
    "    plot_roc_curve(df_test, \"Fall17IsoV2RawVals\", ax=ax)\n",
    "    plot_roc_curve(df_test, \"score\", ax=ax, label=\"your new training (test sample)\")\n",
    "    plot_roc_curve(df_train, \"score\", ax=ax, color=\"#ff7f02\", linestyle='--', label=\"your new training (train sample)\")\n",
    "    ax.set_title(category_titles[i])\n",
    "    ax.legend()\n",
    "    ax.set_xlabel(\"Signal efficiency\")\n",
    "    ax.set_ylabel(\"Background efficiency\")\n",
    "    \n",
    "plt.show()"
   ]
  },
  {
   "cell_type": "markdown",
   "metadata": {},
   "source": [
    "We could train an identification algorithm on the new Run 3 DY+Jets samples which performs at the same order of magnitute as the Run 2 MVA, but not better.\n",
    "\n",
    "This is a bit unexpected, as the Run 3 samples are different from the Run 2 samples in pileup, detector configuration and calibration. However, if you look at the [slides about the Run 2 training](https://rembserj.web.cern.ch/rembserj/slides/180321_egamma.pdf) (more precisely slide 6), you see that the previous training was done on millions of electrons, while we only had a few tens of thousands at hand. This illustrates that more often than not, \"more data\" can be the answer to your machine learning problems.\n",
    "\n",
    "__Question:__ what  part of this notebook would you change to get out new training perform better?"
   ]
  },
  {
   "cell_type": "markdown",
   "metadata": {},
   "source": [
    "## Determining Working Points"
   ]
  },
  {
   "cell_type": "markdown",
   "metadata": {},
   "source": [
    "In this last step, we want to determine 80 and 90 % efficient working points in the 3 training categories. Usually, we want a tighter working point with 80 % signal efficiency  and a medium one woeh 90 % signal efficiency. We can find these working points by getting the appropriate quantiles of the score distribution in the signal class and compare them between the new training and the Run 2 training:"
   ]
  },
  {
   "cell_type": "code",
   "execution_count": 80,
   "metadata": {},
   "outputs": [],
   "source": [
    "def get_working_points(df, score_column):\n",
    "    \n",
    "    working_points = {}\n",
    "\n",
    "    for i, df_group in df.groupby(\"EleMVACats\"):\n",
    "        if i < 3:\n",
    "            continue\n",
    "\n",
    "        # get the category name\n",
    "        category = category_titles[i]\n",
    "        \n",
    "        working_points[category] = {}\n",
    "\n",
    "        df_test = df_group.query(\"test\")\n",
    "        signal_mask = df_test[\"matchedToGenEle\"] == 1\n",
    "\n",
    "        df_sig = df_test[signal_mask]\n",
    "        df_bkg = df_test[~signal_mask]\n",
    "\n",
    "        # Little detail here: as the signal efficiency has a significant turnon before pT around 20 GeV,\n",
    "        # we tune the working point to have a given signal efficiency for pT > 20 GeV.\n",
    "        wp80, wp90 = np.percentile(df_sig.query(\"ele_pt > 20\")[score_column], [20., 10.])\n",
    "\n",
    "        wp80_bkg_eff = 1.*len(df_bkg[df_bkg[score_column] >= wp80])/len(df_bkg)\n",
    "        wp90_bkg_eff = 1.*len(df_bkg[df_bkg[score_column] >= wp90])/len(df_bkg)\n",
    "        \n",
    "        working_points[category][\"wp80\"] = wp80\n",
    "        working_points[category][\"wp90\"] = wp90\n",
    "        \n",
    "        print(\"\")\n",
    "        print(category)\n",
    "        print(\"bkg. efficiency at 80 % sig. eff: {0:.2f} %\".format(wp90_bkg_eff * 100))\n",
    "        print(\"bkg. efficiency at 90 % sig. eff: {0:.2f} %\".format(wp80_bkg_eff * 100))\n",
    "        \n",
    "    return working_points"
   ]
  },
  {
   "cell_type": "code",
   "execution_count": 81,
   "metadata": {},
   "outputs": [
    {
     "name": "stdout",
     "output_type": "stream",
     "text": [
      "Finding working points for new training:\n",
      "\n",
      "EB1_10\n",
      "bkg. efficiency at 80 % sig. eff: 1.99 %\n",
      "bkg. efficiency at 90 % sig. eff: 0.83 %\n",
      "\n",
      "EB2_10\n",
      "bkg. efficiency at 80 % sig. eff: 2.68 %\n",
      "bkg. efficiency at 90 % sig. eff: 1.14 %\n",
      "\n",
      "EE_10\n",
      "bkg. efficiency at 80 % sig. eff: 6.30 %\n",
      "bkg. efficiency at 90 % sig. eff: 2.14 %\n",
      "\n",
      "Finding working points in the same way for Run 2 training:\n",
      "\n",
      "EB1_10\n",
      "bkg. efficiency at 80 % sig. eff: 1.29 %\n",
      "bkg. efficiency at 90 % sig. eff: 0.48 %\n",
      "\n",
      "EB2_10\n",
      "bkg. efficiency at 80 % sig. eff: 1.55 %\n",
      "bkg. efficiency at 90 % sig. eff: 0.49 %\n",
      "\n",
      "EE_10\n",
      "bkg. efficiency at 80 % sig. eff: 3.84 %\n",
      "bkg. efficiency at 90 % sig. eff: 1.50 %\n"
     ]
    }
   ],
   "source": [
    "print(\"Finding working points for new training:\")\n",
    "working_points = get_working_points(df, \"score\")\n",
    "print(\"\")\n",
    "print(\"Finding working points in the same way for Run 2 training:\")\n",
    "get_working_points(df, \"Fall17IsoV2RawVals\");"
   ]
  },
  {
   "cell_type": "markdown",
   "metadata": {},
   "source": [
    "# Bonus: Differential Performance Studies"
   ]
  },
  {
   "cell_type": "markdown",
   "metadata": {},
   "source": [
    "Usually, we also want to look at signal and background efficiencies differential in $p_T$, $\\eta$ and pileup. We won't go into details here as time is running short, but you can find an example on how to produce turnon curves in $p_T$ relying on pandas `groupby` feature in the cell below:"
   ]
  },
  {
   "cell_type": "code",
   "execution_count": 84,
   "metadata": {},
   "outputs": [
    {
     "data": {
      "image/png": "[encoded data removed]",
      "text/plain": [
       "<Figure size 1080x360 with 3 Axes>"
      ]
     },
     "metadata": {
      "needs_background": "light"
     },
     "output_type": "display_data"
    }
   ],
   "source": [
    "fig, axes = plt.subplots(1, 3, figsize=(15, 5))\n",
    "\n",
    "pt_bins = np.linspace(10, 100, 46)\n",
    "pt_bin_centers = (pt_bins[:-1] + pt_bins[1:])/2.\n",
    "\n",
    "bin_indices = np.digitize(df[\"ele_pt\"], pt_bins) - 1\n",
    "bin_indices[bin_indices == 45] = 44\n",
    "df[\"pt_binned\"] = pt_bin_centers[bin_indices]\n",
    "\n",
    "\n",
    "def get_signal_efficiency(df, score_column, working_point):\n",
    "    df_sig = df.query(\"matchedToGenEle == 1\")\n",
    "    return 1.*len(df_sig[df_sig[score_column] >= working_point])/len(df_sig)\n",
    "\n",
    "def get_background_efficiency(df, score_column, working_point):\n",
    "    df_bkg = df.query(\"matchedToGenEle == 0\")\n",
    "    return 1.*len(df_bkg[df_bkg[score_column] >= working_point])/len(df_bkg)\n",
    "\n",
    "for i, df_group in df.groupby(\"EleMVACats\"):\n",
    "    \n",
    "    if i < 3:\n",
    "        continue\n",
    "        \n",
    "    wp80 = working_points[category][\"wp80\"]\n",
    "    wp90 = working_points[category][\"wp90\"]\n",
    "\n",
    "    ax = axes[i%3]\n",
    "    df_group.groupby(\"pt_binned\").apply(lambda df : get_background_efficiency(df, \"score\", wp80)).plot(label=\"background\", ax=ax)\n",
    "    df_group.groupby(\"pt_binned\").apply(lambda df : get_signal_efficiency(df, \"score\", wp80)).plot(label=\"signal\", ax=ax)\n",
    "    ax.set_ylabel(\"Efficiency\")\n",
    "    ax.set_xlabel(r\"$p_T$ [GeV]\")\n",
    "    ax.grid(True)\n",
    "    ax.set_title(category_titles[i])\n",
    "    ax.legend()\n",
    "    \n",
    "plt.show()\n",
    "\n",
    "df = df.drop(\"pt_binned\", axis=1)"
   ]
  },
  {
   "cell_type": "markdown",
   "metadata": {},
   "source": [
    "We see the turn-on effect is actually very strong, even above $p_T$ > 20 GeV. This would get better with a larger training sample and more boosting rounds."
   ]
  }
 ],
 "metadata": {
  "kernelspec": {
   "display_name": "Python 2",
   "language": "python",
   "name": "python2"
  },
  "language_info": {
   "codemirror_mode": {
    "name": "ipython",
    "version": 2
   },
   "file_extension": ".py",
   "mimetype": "text/x-python",
   "name": "python",
   "nbconvert_exporter": "python",
   "pygments_lexer": "ipython2",
   "version": "2.7.16"
  }
 },
 "nbformat": 4,
 "nbformat_minor": 2
}
