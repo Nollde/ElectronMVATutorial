{
 "cells": [
  {
   "cell_type": "markdown",
   "metadata": {},
   "source": [
    "# Electron MVA Tutorial"
   ]
  },
  {
   "cell_type": "markdown",
   "metadata": {},
   "source": [
    "## Introduction\n",
    "\n",
    "Imagine you are tasked with retraining the multivariate electron identification algorithm in CMS (aka. the Electron MVA) for the upcoming Run 3. How would you tackle that?\n",
    "\n",
    "This tutorial explains you exactly how it was done in Run 2, so you could continue where we left off and improve from there.\n",
    "\n",
    "In general, there are 3 stages you need to work through in this endevor, which all require different skills and tools:\n",
    "\n",
    "1. **Extract electron data** from CMS simulated events (MC). This step is also known as \"producing ntuples\".\n",
    "\n",
    "2. **Train a multivariate classifier**. Traditionally we train here Boosted Decision Trees (BDTs).\n",
    "   \n",
    "3. **Implement the classifier in back in CMSSW**. This step is either a straight forward copy-and-paste job if you stick with the BDT algorithm, or involves a lot of C++ programming when you choose to take another one.\n",
    "   \n",
    "Here, we will tell you how to use the \"ElectronMVANtuplizer\" in CMSSW to create the ntuples for the training and how to train the Electron MVA with Python tools."
   ]
  },
  {
   "cell_type": "markdown",
   "metadata": {},
   "source": [
    "## Creating the Electron MVA Ntuple\n",
    "\n",
    "### 1. Check out CMSSW environment\n",
    "\n",
    "Make sure you initialized your grid proxy. This time we go with a brand new CMSSW release as we deal with Run 3 samples:\n",
    "\n",
    "```Bash\n",
    "cmsrel CMSSW_10_6_3\n",
    "cd CMSSW_10_6_3/src\n",
    "cmsenv\n",
    "git cms-addpkg RecoEgamma/ElectronIdentification\n",
    "```\n",
    "\n",
    "Wait for the checkout to complete and then change into the directory `RecoEgamma/ElectronIdentification/test`. There you find the configuration file for the ElectronMVANtuplizer, named `TestElectronMVA_cfg.py`."
   ]
  },
  {
   "cell_type": "markdown",
   "metadata": {},
   "source": [
    "### 2. Change input files to new Run 3 samples\n",
    "\n",
    "The Electron MVA should separate prompt electrons from fakes that come from no particular hard process. That's why we will use a **Drell-Yan plus jets** (DY+jets) sample for the training.\n",
    "\n",
    "Signal (or the positive class in ML language) will be reconstructed electrons that match to a true prompt electron, while the background (or the negative class) will be all unmatched and non-prompt electrons (e.g. electrons in jets). We will ignore electrons from tau decays. All this categorization is done in the ElectronMVANtuplizer.\n",
    "\n",
    "This is the name of the MC DY+jets sample we will use:\n",
    "```\n",
    "/DYJets_incl_MLL-50_TuneCP5_14TeV-madgraphMLM-pythia8/Run3Summer19MiniAOD-2023Scenario_106X_mcRun3_2023_realistic_v3-v1/MINIAODSIM\n",
    "```\n",
    "\n",
    "Are you familiar with the `dasgoclient`? You can check the last example you get with `dasgoclient --help` to learn how to find files within a given sample. Please find the path to some file in the DY+jets Run 3 sample and edit `process.source` in `testElectronMVA_cfg.py` to use the new file path.\n",
    "\n",
    "You might also want to change `process.maxEvents` in the same file to a relatively small number (like 1000 events) to make a test run. Once you know it works, you set it back to `-1`, which means all events in the file.\n",
    "\n",
    "If it does not work, try a different file in the dataset. The production of the dataset is not finished yet, so you might get unlucky and pick a file that does not exists."
   ]
  },
  {
   "cell_type": "markdown",
   "metadata": {},
   "source": [
    "### 3. Run the Ntuplizer\n",
    "\n",
    "All that is left to do now to produce the ntuple is to issue this command in `RecoEgamma/ElectronIdentification/test`:\n",
    "    \n",
    "```Bash\n",
    "cmsRun testElectronMVA_cfg.py\n",
    "```\n",
    "\n",
    "Watch the events fly by. In the end, you will have a new file called `electron_ntuple.root` in the test directory."
   ]
  },
  {
   "cell_type": "markdown",
   "metadata": {},
   "source": [
    "## Electron MVA Ntuple Data"
   ]
  },
  {
   "cell_type": "code",
   "execution_count": 28,
   "metadata": {},
   "outputs": [
    {
     "name": "stdout",
     "output_type": "stream",
     "text": [
      "········\n"
     ]
    }
   ],
   "source": [
    "import getpass\n",
    "import os\n",
    "username = \"rembserj\"\n",
    "if os.system('klist | grep Default | grep ' + username + '@CERN.CH'):\n",
    "    os.system('echo %s' % getpass.getpass() + \" | kinit \" + username)"
   ]
  },
  {
   "cell_type": "markdown",
   "metadata": {},
   "source": [
    "The uproot library is by far the most convinient library to load data from ROOT trees into pandas DataFrames or numpy arrays, which are the most common data structures in the scientific and ML Python ecosystem."
   ]
  },
  {
   "cell_type": "code",
   "execution_count": 2,
   "metadata": {},
   "outputs": [],
   "source": [
    "import uproot\n",
    "import glob"
   ]
  },
  {
   "cell_type": "code",
   "execution_count": 3,
   "metadata": {},
   "outputs": [
    {
     "name": "stdout",
     "output_type": "stream",
     "text": [
      "electron_ntuple_000041.root  electron_ntuple_000049.root\r\n",
      "electron_ntuple_000042.root  electron_ntuple_000050.root\r\n",
      "electron_ntuple_000043.root  electron_ntuple_000051.root\r\n",
      "electron_ntuple_000044.root  electron_ntuple_000052.root\r\n",
      "electron_ntuple_000045.root  electron_ntuple_000079.root\r\n",
      "electron_ntuple_000046.root  electron_ntuple_000090.root\r\n",
      "electron_ntuple_000047.root  electron_ntuple_000100.root\r\n",
      "electron_ntuple_000048.root\r\n"
     ]
    }
   ],
   "source": [
    "ls /eos/user/r/rembserj/ntuples/electron_mva_run3"
   ]
  },
  {
   "cell_type": "code",
   "execution_count": 4,
   "metadata": {},
   "outputs": [],
   "source": [
    "root_files = glob.glob(\"/eos/user/r/rembserj/ntuples/electron_mva_run3/*.root\")"
   ]
  },
  {
   "cell_type": "markdown",
   "metadata": {},
   "source": [
    "Load the rootfile you produced before and get the ROOT file directory structure by callling `allkeys`:"
   ]
  },
  {
   "cell_type": "code",
   "execution_count": 5,
   "metadata": {},
   "outputs": [
    {
     "data": {
      "text/plain": [
       "['ntuplizer;1', 'ntuplizer/tree;1']"
      ]
     },
     "execution_count": 5,
     "metadata": {},
     "output_type": "execute_result"
    }
   ],
   "source": [
    "f = uproot.open(root_files[0])\n",
    "f.allkeys()"
   ]
  },
  {
   "cell_type": "code",
   "execution_count": 6,
   "metadata": {},
   "outputs": [
    {
     "name": "stdout",
     "output_type": "stream",
     "text": [
      "\u001b[33mDEPRECATION: Python 2.7 will reach the end of its life on January 1st, 2020. Please upgrade your Python as Python 2.7 won't be maintained after that date. A future version of pip will drop support for Python 2.7.\u001b[0m\n",
      "Requirement already satisfied: tqdm in /eos/home-r/rembserj/.local/lib/python2.7/site-packages (4.35.0)\n"
     ]
    }
   ],
   "source": [
    "!pip install --user tqdm"
   ]
  },
  {
   "cell_type": "markdown",
   "metadata": {},
   "source": [
    "There we go, the TTree with the electron data we seek must be `ntuplizer/tree`! Like in C++ ROOT, ignore the semicolon and the numbers after it in the names."
   ]
  },
  {
   "cell_type": "code",
   "execution_count": 7,
   "metadata": {},
   "outputs": [],
   "source": [
    "import pandas as pd\n",
    "from tqdm import tqdm"
   ]
  },
  {
   "cell_type": "code",
   "execution_count": 8,
   "metadata": {},
   "outputs": [
    {
     "name": "stderr",
     "output_type": "stream",
     "text": [
      "100%|██████████| 15/15 [00:03<00:00,  4.11it/s]\n"
     ]
    }
   ],
   "source": [
    "unneccesary_columns = ['ele_index',\n",
    "       'Spring16GPV1Vals', 'Spring16GPV1RawVals', 'Spring16HZZV1Vals',\n",
    "       'Spring16HZZV1RawVals', 'Fall17NoIsoV2Vals',\n",
    "       'Fall17IsoV2Vals', 'Fall17IsoV1Vals',\n",
    "       'Fall17NoIsoV1Vals', 'Spring16GPV1wp80', 'Spring16GPV1wp90',\n",
    "       'Spring16HZZV1wpLoose', 'Fall17noIsoV2wp80', 'Fall17noIsoV2wpLoose',\n",
    "       'Fall17noIsoV2wp90', 'Fall17isoV2wpHZZ', 'Fall17isoV2wp80',\n",
    "       'Fall17isoV2wpLoose', 'Fall17isoV2wp90', 'Fall17noIsoV1wp90',\n",
    "       'Fall17noIsoV1wp80', 'Fall17noIsoV1wpLoose', 'Fall17isoV1wp90',\n",
    "       'Fall17isoV1wp80', 'Fall17isoV1wpLoose', 'nEvent', 'nRun', 'nLumi']\n",
    "\n",
    "def get_df(root_file_name):\n",
    "    df = uproot.open(root_file_name)[\"ntuplizer/tree\"].pandas.df()\n",
    "    return df.drop(unneccesary_columns, axis=1)\n",
    "\n",
    "df = pd.concat((get_df(f) for f in  tqdm(root_files)), ignore_index=True)"
   ]
  },
  {
   "cell_type": "markdown",
   "metadata": {},
   "source": [
    "Let's check what columns we have in this data (or \"branches\" if you come from ROOT):"
   ]
  },
  {
   "cell_type": "code",
   "execution_count": 9,
   "metadata": {},
   "outputs": [
    {
     "data": {
      "text/plain": [
       "Index([u'genNpu', u'vtxN', u'ele_q', u'ele_3q', u'matchedToGenEle', u'rho',\n",
       "       u'ele_pt', u'ele_oldsigmaietaieta', u'ele_oldsigmaiphiiphi',\n",
       "       u'ele_oldcircularity', u'ele_oldr9', u'ele_scletawidth',\n",
       "       u'ele_sclphiwidth', u'ele_hadronicOverEm', u'ele_oldhe', u'ele_kfhits',\n",
       "       u'ele_kfchi2', u'ele_gsfchi2', u'ele_fbrem', u'ele_gsfhits',\n",
       "       u'ele_expected_inner_hits', u'ele_conversionVertexFitProbability',\n",
       "       u'ele_ep', u'ele_eelepout', u'ele_IoEmIop', u'ele_deltaetain',\n",
       "       u'ele_deltaphiin', u'ele_deltaetaseed', u'ele_psEoverEraw',\n",
       "       u'ele_pfPhotonIso', u'ele_pfChargedHadIso', u'ele_pfNeutralHadIso',\n",
       "       u'scl_E', u'scl_Et', u'scl_eta', u'scl_phi', u'ele_sclRawE',\n",
       "       u'ele_sclNclus', u'ele_olde15', u'ele_olde25max', u'ele_olde55',\n",
       "       u'ele_ecalE', u'ele_ecalErr', u'ele_trackErr', u'ele_combErr',\n",
       "       u'ele_PFcombErr', u'ele_pfSumPUIso', u'ele_SCfbrem', u'ele_eClass',\n",
       "       u'ele_nbrem', u'ele_oldhebc', u'ele_hebc', u'ele_isEB', u'ele_isEE',\n",
       "       u'ele_isEBEtaGap', u'ele_isEBPhiGap', u'ele_isEBEEGap',\n",
       "       u'ele_isEEDeeGap', u'ele_isEERingGap', u'Fall17NoIsoV2RawVals',\n",
       "       u'Fall17IsoV2RawVals', u'EleMVACats'],\n",
       "      dtype='object')"
      ]
     },
     "execution_count": 9,
     "metadata": {},
     "output_type": "execute_result"
    }
   ],
   "source": [
    "df.columns"
   ]
  },
  {
   "cell_type": "markdown",
   "metadata": {},
   "source": [
    "That's a lot of information! Let's not try to understand everything at one, but explain when needed."
   ]
  },
  {
   "cell_type": "markdown",
   "metadata": {},
   "source": [
    "## Categorizing Electrons as Signal or Background"
   ]
  },
  {
   "cell_type": "markdown",
   "metadata": {},
   "source": [
    "To say it once more: signal will be reconstructed electrons that match to a true prompt electron, while the background will be all unmatched and non-prompt electrons. Electrons from tau decays should be ignored.\n",
    "\n",
    "The electron ntuplizer stores the category to which the electron belongs in the `matchedToGenEle` branch, and you can check the [ntuplizer source code](https://github.com/cms-sw/cmssw/blob/master/RecoEgamma/ElectronIdentification/plugins/ElectronMVANtuplizer.cc#L139) to learn which number corresponds to which category (starting from `UNMATCHED = 0`).\n",
    "\n",
    "The electrons from taus correspond to `matchedToGenEle = 2`, so let's drop them from the data frame."
   ]
  },
  {
   "cell_type": "code",
   "execution_count": 10,
   "metadata": {},
   "outputs": [],
   "source": [
    "df = df[df[\"matchedToGenEle\"] != 2]"
   ]
  },
  {
   "cell_type": "markdown",
   "metadata": {},
   "source": [
    "Also we don't care about the distinction between non-prompt and unmatched electrons, so let's set both categories to the value zeros."
   ]
  },
  {
   "cell_type": "code",
   "execution_count": 11,
   "metadata": {},
   "outputs": [],
   "source": [
    "df.loc[df[\"matchedToGenEle\"] != 1, \"matchedToGenEle\"] = 0"
   ]
  },
  {
   "cell_type": "markdown",
   "metadata": {},
   "source": [
    "Very good, now `matchedToGenEle = 1` corresponds to signal and `matchedToGenEle = 0` to background."
   ]
  },
  {
   "cell_type": "code",
   "execution_count": 12,
   "metadata": {},
   "outputs": [],
   "source": [
    "df = df[df[\"scl_eta\"].abs() < 2.5]"
   ]
  },
  {
   "cell_type": "markdown",
   "metadata": {},
   "source": [
    "Let's take a look at the $p_T$ and $\\eta$ distributions to see if they look as expected:"
   ]
  },
  {
   "cell_type": "code",
   "execution_count": 13,
   "metadata": {},
   "outputs": [],
   "source": [
    "import matplotlib.pyplot as plt\n",
    "import numpy as np\n",
    "\n",
    "def get_label(name):\n",
    "    if name == 0:\n",
    "        return \"background\"\n",
    "    else:\n",
    "        return \"signal\"\n",
    "\n",
    "def plot_electrons(df, column, bins, logscale=False, ax=None, title=None):\n",
    "    if ax is None:\n",
    "        ax = plt.gca()\n",
    "    for name, group in df.groupby(\"matchedToGenEle\"):\n",
    "        group[column].hist(bins=bins, histtype=\"step\", label=get_label(name), ax=ax, density=True)\n",
    "    ax.set_ylabel(\"density\")\n",
    "    ax.set_xlabel(column)\n",
    "    ax.legend()\n",
    "    ax.set_title(title)\n",
    "    if logscale:\n",
    "        ax.set_yscale(\"log\", nonposy='clip')"
   ]
  },
  {
   "cell_type": "code",
   "execution_count": 14,
   "metadata": {},
   "outputs": [
    {
     "data": {
      "image/png": "[encoded data removed]",
      "text/plain": [
       "<Figure size 1080x360 with 2 Axes>"
      ]
     },
     "metadata": {
      "needs_background": "light"
     },
     "output_type": "display_data"
    }
   ],
   "source": [
    "fig, axes = plt.subplots(1, 2, figsize=(15, 5))\n",
    "plot_electrons(df, \"ele_pt\", np.linspace(0, 100, 200), ax=axes[0])\n",
    "plot_electrons(df, \"scl_eta\", np.linspace(-2.5, 2.5, 50), ax=axes[1])\n",
    "plt.show()"
   ]
  },
  {
   "cell_type": "code",
   "execution_count": 15,
   "metadata": {},
   "outputs": [
    {
     "data": {
      "image/png": "[encoded data removed]",
      "text/plain": [
       "<Figure size 1080x360 with 2 Axes>"
      ]
     },
     "metadata": {
      "needs_background": "light"
     },
     "output_type": "display_data"
    }
   ],
   "source": [
    "fig, axes = plt.subplots(1, 2, figsize=(15, 5))\n",
    "plot_electrons(df.query(\"ele_isEB\"), \"ele_oldsigmaietaieta\", 100, ax=axes[0], title=\"Barrel\")\n",
    "plot_electrons(df.query(\"ele_isEE\"), \"ele_oldsigmaietaieta\", 100, ax=axes[1], title=\"Endcap\")\n",
    "plt.show()"
   ]
  },
  {
   "cell_type": "markdown",
   "metadata": {},
   "source": [
    "## Training the Boosted Decision Tree Classifiers"
   ]
  },
  {
   "cell_type": "code",
   "execution_count": 16,
   "metadata": {},
   "outputs": [],
   "source": [
    "features = [\"ele_oldsigmaietaieta\", \"ele_oldsigmaiphiiphi\",\n",
    "            \"ele_oldcircularity\", \"ele_oldr9\", \"ele_scletawidth\",\n",
    "            \"ele_sclphiwidth\", \"ele_oldhe\", \"ele_kfhits\", \"ele_kfchi2\",\n",
    "            \"ele_gsfchi2\", \"ele_fbrem\", \"ele_gsfhits\",\n",
    "            \"ele_expected_inner_hits\", \"ele_conversionVertexFitProbability\",\n",
    "            \"ele_ep\", \"ele_eelepout\", \"ele_IoEmIop\", \"ele_deltaetain\",\n",
    "            \"ele_deltaphiin\", \"ele_deltaetaseed\", \"rho\",\n",
    "            \"ele_pfPhotonIso\", \"ele_pfChargedHadIso\", \"ele_pfNeutralHadIso\",\n",
    "            \"ele_psEoverEraw\"]"
   ]
  },
  {
   "cell_type": "code",
   "execution_count": 17,
   "metadata": {},
   "outputs": [],
   "source": [
    "from sklearn.model_selection import train_test_split\n",
    "import xgboost as xgb"
   ]
  },
  {
   "cell_type": "code",
   "execution_count": 18,
   "metadata": {},
   "outputs": [],
   "source": [
    "import xgboost2tmva"
   ]
  },
  {
   "cell_type": "code",
   "execution_count": 19,
   "metadata": {},
   "outputs": [],
   "source": [
    "def train_test_split_return_indices(X, y, test_size=None, random_state=None):\n",
    "    \n",
    "    # create array with indices\n",
    "    if hasattr(y, \"index\"):\n",
    "        indices = y.index.values\n",
    "        y = y.values\n",
    "    else:\n",
    "        indices = np.arange(len(y))\n",
    "    \n",
    "    # store original shape of y\n",
    "    y_shape = y.shape[1:]\n",
    "    \n",
    "    # reshape y so we can piggy-back the indices with it\n",
    "    y = y.reshape((len(y),-1))\n",
    "    \n",
    "    # add the indices to y\n",
    "    y = np.concatenate([y, indices.reshape((-1,1))], axis=1)\n",
    "    \n",
    "    # do the actual test-train split\n",
    "    X_train, X_test, y_train, y_test = train_test_split(X, y, test_size=test_size, random_state=random_state)\n",
    "    \n",
    "    # extract the indices for the train and test set\n",
    "    idx_train = np.array(y_train[:,-1], dtype=np.int)\n",
    "    idx_test = np.array(y_test[:,-1], dtype=np.int)\n",
    "\n",
    "    # extract the actual y_train and y_test\n",
    "    y_train = y_train[:,:-1].reshape((y_train.shape[0],) + y_shape)\n",
    "    y_test = y_test[:,:-1].reshape((y_test.shape[0],) + y_shape)\n",
    "\n",
    "    return X_train, X_test, y_train, y_test, idx_train, idx_test"
   ]
  },
  {
   "cell_type": "code",
   "execution_count": 20,
   "metadata": {},
   "outputs": [],
   "source": [
    "xgboost_params = {'eval_metric':'auc',\n",
    "              'objective'  :'binary:logitraw',\n",
    "              'max_depth' : 3,\n",
    "              'min_child_weight' : 10,\n",
    "              'gamma' : 0.5,\n",
    "              'alpha' : 1., \n",
    "             }"
   ]
  },
  {
   "cell_type": "code",
   "execution_count": 22,
   "metadata": {},
   "outputs": [
    {
     "name": "stdout",
     "output_type": "stream",
     "text": [
      "training for category 0 on 12909 events...\n",
      "training for category 1 on 12354 events...\n",
      "training for category 2 on 25456 events...\n",
      "training for category 3 on 66425 events...\n",
      "training for category 4 on 54694 events...\n",
      "training for category 5 on 71857 events...\n"
     ]
    }
   ],
   "source": [
    "for i, group_df in df.groupby(\"EleMVACats\"):\n",
    "    \n",
    "    X = group_df[features]\n",
    "    y = group_df[\"matchedToGenEle\"]\n",
    "\n",
    "    res = train_test_split_return_indices(X, y, test_size=0.33, random_state=42)\n",
    "    X_train, X_test, y_train, y_test, idx_train, idx_test = res\n",
    "    \n",
    "    print(\"training for category \" + str(i) + \" on \" + str(len(y_train)) + \" events...\")\n",
    "\n",
    "    dmatrix_train = xgb.DMatrix(X_train.copy(), label=np.copy(y_train))\n",
    "    dmatrix_test  = xgb.DMatrix(X_test.copy(), label=np.copy(y_test ))\n",
    "\n",
    "    model = xgb.train(xgboost_params, dmatrix_train, num_boost_round=10,\n",
    "                      evals= [(dmatrix_train, 'train'),\n",
    "                               (dmatrix_test, 'test')],\n",
    "                      early_stopping_rounds=10,\n",
    "                      verbose_eval=False)\n",
    "    \n",
    "    xgboost2tmva.convert_model(model.get_dump(),\n",
    "                               input_variables=[(f,'F') for f in features],\n",
    "                               output_xml='electron_id_{0}.xml'.format(i))\n",
    "    \n",
    "    model.save_model(\"electron_id_{0}.bin\".format(i))\n",
    "    \n",
    "    df.loc[idx_test, \"score\"] = model.predict(dmatrix_test)"
   ]
  },
  {
   "cell_type": "code",
   "execution_count": 23,
   "metadata": {},
   "outputs": [],
   "source": [
    "df_test = df.dropna()"
   ]
  },
  {
   "cell_type": "code",
   "execution_count": 24,
   "metadata": {},
   "outputs": [],
   "source": [
    "from sklearn import metrics\n",
    "\n",
    "def plot_roc_curve(df, score_column, tpr_threshold=0.7, ax=None):\n",
    "    if ax is None:\n",
    "        ax = plt.gca()\n",
    "    fpr, tpr, thresholds = metrics.roc_curve(df[\"matchedToGenEle\"], df[score_column])\n",
    "    mask = tpr > tpr_threshold\n",
    "    fpr, tpr = fpr[mask], tpr[mask]\n",
    "    ax.semilogy(tpr, fpr, label=score_column)"
   ]
  },
  {
   "cell_type": "code",
   "execution_count": 25,
   "metadata": {},
   "outputs": [],
   "source": [
    "category_titles = [\"EB1_5\", \"EB2_5\", \"EE_5\", \"EB1_10\", \"EB2_10\", \"EE_10\"]"
   ]
  },
  {
   "cell_type": "code",
   "execution_count": 26,
   "metadata": {},
   "outputs": [
    {
     "data": {
      "image/png": "[encoded data removed]",
      "text/plain": [
       "<Figure size 1080x720 with 6 Axes>"
      ]
     },
     "metadata": {
      "needs_background": "light"
     },
     "output_type": "display_data"
    }
   ],
   "source": [
    "fig, axes = plt.subplots(2, 3, figsize=(15, 10))\n",
    "\n",
    "for i, group_df in df_test.groupby(\"EleMVACats\"):\n",
    "    \n",
    "    \n",
    "    ax = axes[int(i < 3),i%3]\n",
    "    plot_roc_curve(group_df, \"Fall17IsoV2RawVals\", ax=ax)\n",
    "    plot_roc_curve(group_df, \"score\", ax=ax)\n",
    "    ax.set_title(category_titles[i])\n",
    "    ax.legend()\n",
    "    ax.set_xlabel(\"Signal efficiency\")\n",
    "    ax.set_ylabel(\"Background efficiency\")\n",
    "    \n",
    "plt.show()"
   ]
  }
 ],
 "metadata": {
  "kernelspec": {
   "display_name": "Python 2",
   "language": "python",
   "name": "python2"
  },
  "language_info": {
   "codemirror_mode": {
    "name": "ipython",
    "version": 2
   },
   "file_extension": ".py",
   "mimetype": "text/x-python",
   "name": "python",
   "nbconvert_exporter": "python",
   "pygments_lexer": "ipython2",
   "version": "2.7.16"
  }
 },
 "nbformat": 4,
 "nbformat_minor": 2
}
