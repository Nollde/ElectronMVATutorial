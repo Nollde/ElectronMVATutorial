{
 "cells": [
  {
   "cell_type": "markdown",
   "metadata": {},
   "source": [
    "# Electron MVA Tutorial\n",
    "\n",
    "Hello, good to see you again! This is the main part of the tutorial, where we inspect and understand the ntuples a bit, before finally training a few BTDs to separate real prompt electrons from fakes."
   ]
  },
  {
   "cell_type": "markdown",
   "metadata": {},
   "source": [
    "## Prerequesites"
   ]
  },
  {
   "cell_type": "markdown",
   "metadata": {},
   "source": [
    "### Install Python packages\n",
    "\n",
    "We need to install two additional Python packages to run this notebook:\n",
    "\n",
    "* [uproot](https://github.com/scikit-hep/uproot) to open ROOT files\n",
    "* [tqdm](https://github.com/tqdm/tqdm) to draw progessbars\n",
    "\n",
    "The other packages we rely on, in particular [xgboost](https://xgboost.readthedocs.io/en/latest/) for training BDTs, [pandas](https://pandas.pydata.org/) and [sklearn](https://scikit-learn.org/stable/index.html) are already installed in the SWAN environment.\n",
    "\n",
    "You can execute bash commands withing the notebook by putting an exclamation mark `!` in front of them. You can uncomment the following cell and run it to invoke `pip` to install the missing packages:"
   ]
  },
  {
   "cell_type": "code",
   "execution_count": 1,
   "metadata": {},
   "outputs": [],
   "source": [
    "#!pip install --user uproot tqdm"
   ]
  },
  {
   "cell_type": "markdown",
   "metadata": {},
   "source": [
    "After the installations are finished, you have to restart the notebook kernel with the little circular arrow button in the toolbar above. You may now comment out the pip command again so it's not always run when you execute all cells in this notebook."
   ]
  },
  {
   "cell_type": "markdown",
   "metadata": {},
   "source": [
    "### Login with you CERN account to get Ntuples from EOS\n",
    "\n",
    "In the first part of this tutorial, we showed you how to create the Electron MVA ntuples and you produced them yourself for one ROOT file. One file is unfortunately not enough for training the MVA.\n",
    "\n",
    "We processed the whole Run 3 __DY+Jets__ MC sample for you and put the ROOT files into the EOS user space. To access them, please login to EOS by running the cells below (don't forget to change the username to yours):"
   ]
  },
  {
   "cell_type": "code",
   "execution_count": 2,
   "metadata": {},
   "outputs": [],
   "source": [
    "username = \"rembserj\""
   ]
  },
  {
   "cell_type": "code",
   "execution_count": 3,
   "metadata": {},
   "outputs": [
    {
     "name": "stdout",
     "output_type": "stream",
     "text": [
      "········\n"
     ]
    }
   ],
   "source": [
    "import getpass\n",
    "import os\n",
    "if os.system('klist | grep Default | grep ' + username + '@CERN.CH'):\n",
    "    os.system('echo %s' % getpass.getpass() + \" | kinit \" + username)"
   ]
  },
  {
   "cell_type": "markdown",
   "metadata": {},
   "source": [
    "## Electron MVA Ntuple Data\n",
    "\n",
    "Let's import __uproot__ to open ROOT files, __glob__ to  search for files, __pandas__ for DataFrames and __tqdm__ for progress bars."
   ]
  },
  {
   "cell_type": "code",
   "execution_count": 4,
   "metadata": {},
   "outputs": [],
   "source": [
    "import uproot\n",
    "import glob\n",
    "import pandas as pd\n",
    "from tqdm import tqdm"
   ]
  },
  {
   "cell_type": "markdown",
   "metadata": {},
   "source": [
    "We need a lot of events to train the Electron MVA well, but using the full dataset would take too long in this tutorial. Let's just get the names of __10 files___."
   ]
  },
  {
   "cell_type": "code",
   "execution_count": 5,
   "metadata": {},
   "outputs": [],
   "source": [
    "n_files = 10\n",
    "root_files = glob.glob(\"/eos/user/r/rembserj/ntuples/electron_mva_run3/*.root\")[:n_files]"
   ]
  },
  {
   "cell_type": "markdown",
   "metadata": {},
   "source": [
    "You can open a file with `uproot.open` and get the ROOT file directory structure by callling `allkeys`.\n",
    "Like in C++ ROOT, ignore the semicolon and the numbers after it in the names."
   ]
  },
  {
   "cell_type": "code",
   "execution_count": 6,
   "metadata": {},
   "outputs": [
    {
     "data": {
      "text/plain": [
       "['ntuplizer;1', 'ntuplizer/tree;1']"
      ]
     },
     "execution_count": 6,
     "metadata": {},
     "output_type": "execute_result"
    }
   ],
   "source": [
    "f = uproot.open(root_files[0])\n",
    "f.allkeys()"
   ]
  },
  {
   "cell_type": "markdown",
   "metadata": {},
   "source": [
    "There we go, the TTree with the electron data we seek must be `ntuplizer/tree`!\n",
    "\n",
    "With that knowledge we can write a function that takes the path to a Electron MVA Ntuple file and returns a DataFrame with all the data except for some columns we won't use."
   ]
  },
  {
   "cell_type": "code",
   "execution_count": 7,
   "metadata": {},
   "outputs": [],
   "source": [
    "unneccesary_columns = ['ele_index',\n",
    "       'Spring16GPV1Vals', 'Spring16GPV1RawVals', 'Spring16HZZV1Vals',\n",
    "       'Spring16HZZV1RawVals', 'Fall17NoIsoV2Vals',\n",
    "       'Fall17IsoV2Vals', 'Fall17IsoV1Vals',\n",
    "       'Fall17NoIsoV1Vals', 'Spring16GPV1wp80', 'Spring16GPV1wp90',\n",
    "       'Spring16HZZV1wpLoose', 'Fall17noIsoV2wp80', 'Fall17noIsoV2wpLoose',\n",
    "       'Fall17noIsoV2wp90', 'Fall17isoV2wpHZZ', 'Fall17isoV2wp80',\n",
    "       'Fall17isoV2wpLoose', 'Fall17isoV2wp90', 'Fall17noIsoV1wp90',\n",
    "       'Fall17noIsoV1wp80', 'Fall17noIsoV1wpLoose', 'Fall17isoV1wp90',\n",
    "       'Fall17isoV1wp80', 'Fall17isoV1wpLoose', 'nEvent', 'nRun', 'nLumi']\n",
    "\n",
    "def get_df(root_file_name):\n",
    "    f = uproot.open(root_file_name)\n",
    "    if len(f.allkeys()) == 0:\n",
    "        return pd.DataFrame()\n",
    "    df = uproot.open(root_file_name)[\"ntuplizer/tree\"].pandas.df()\n",
    "    return df.drop(unneccesary_columns, axis=1)"
   ]
  },
  {
   "cell_type": "markdown",
   "metadata": {},
   "source": [
    "Let's use this function in a loop to load all files and combine the DataFrames with `pandas.concat`:"
   ]
  },
  {
   "cell_type": "code",
   "execution_count": 8,
   "metadata": {},
   "outputs": [
    {
     "name": "stderr",
     "output_type": "stream",
     "text": [
      "100%|██████████| 10/10 [00:02<00:00,  4.52it/s]\n"
     ]
    }
   ],
   "source": [
    "df = pd.concat((get_df(f) for f in  tqdm(root_files)), ignore_index=True)"
   ]
  },
  {
   "cell_type": "markdown",
   "metadata": {},
   "source": [
    "We can check what columns we have in this data (or \"branches\" if you come from ROOT):"
   ]
  },
  {
   "cell_type": "code",
   "execution_count": 9,
   "metadata": {},
   "outputs": [
    {
     "data": {
      "text/plain": [
       "Index([u'genNpu', u'vtxN', u'ele_q', u'ele_3q', u'matchedToGenEle', u'rho',\n",
       "       u'ele_pt', u'ele_oldsigmaietaieta', u'ele_oldsigmaiphiiphi',\n",
       "       u'ele_oldcircularity', u'ele_oldr9', u'ele_scletawidth',\n",
       "       u'ele_sclphiwidth', u'ele_hadronicOverEm', u'ele_oldhe', u'ele_kfhits',\n",
       "       u'ele_kfchi2', u'ele_gsfchi2', u'ele_fbrem', u'ele_gsfhits',\n",
       "       u'ele_expected_inner_hits', u'ele_conversionVertexFitProbability',\n",
       "       u'ele_ep', u'ele_eelepout', u'ele_IoEmIop', u'ele_deltaetain',\n",
       "       u'ele_deltaphiin', u'ele_deltaetaseed', u'ele_psEoverEraw',\n",
       "       u'ele_pfPhotonIso', u'ele_pfChargedHadIso', u'ele_pfNeutralHadIso',\n",
       "       u'scl_E', u'scl_Et', u'scl_eta', u'scl_phi', u'ele_sclRawE',\n",
       "       u'ele_sclNclus', u'ele_olde15', u'ele_olde25max', u'ele_olde55',\n",
       "       u'ele_ecalE', u'ele_ecalErr', u'ele_trackErr', u'ele_combErr',\n",
       "       u'ele_PFcombErr', u'ele_pfSumPUIso', u'ele_SCfbrem', u'ele_eClass',\n",
       "       u'ele_nbrem', u'ele_oldhebc', u'ele_hebc', u'ele_isEB', u'ele_isEE',\n",
       "       u'ele_isEBEtaGap', u'ele_isEBPhiGap', u'ele_isEBEEGap',\n",
       "       u'ele_isEEDeeGap', u'ele_isEERingGap', u'Fall17NoIsoV2RawVals',\n",
       "       u'Fall17IsoV2RawVals', u'EleMVACats'],\n",
       "      dtype='object')"
      ]
     },
     "execution_count": 9,
     "metadata": {},
     "output_type": "execute_result"
    }
   ],
   "source": [
    "df.columns"
   ]
  },
  {
   "cell_type": "markdown",
   "metadata": {},
   "source": [
    "That's a lot of information! Let's not try to understand everything at one, but explain when needed."
   ]
  },
  {
   "cell_type": "markdown",
   "metadata": {},
   "source": [
    "## Categorizing Electrons as Signal or Background"
   ]
  },
  {
   "cell_type": "markdown",
   "metadata": {},
   "source": [
    "To say it once more: signal will be reconstructed electrons that match to a true prompt electron, while the background will be all unmatched and non-prompt electrons. Electrons from tau decays should be ignored.\n",
    "\n",
    "The electron ntuplizer stores the category to which the electron belongs in the `matchedToGenEle` branch, and you can check the [ntuplizer source code](https://github.com/cms-sw/cmssw/blob/master/RecoEgamma/ElectronIdentification/plugins/ElectronMVANtuplizer.cc#L139) to learn which number corresponds to which category (starting from `UNMATCHED = 0`).\n",
    "\n",
    "The electrons from taus correspond to `matchedToGenEle = 2`, so let's drop them from the data frame. You can use the `query` methods of dataframes to select a subset of the dataframe based on a selection query:"
   ]
  },
  {
   "cell_type": "code",
   "execution_count": 10,
   "metadata": {},
   "outputs": [],
   "source": [
    "df = df.query(\"matchedToGenEle != 2\")"
   ]
  },
  {
   "cell_type": "markdown",
   "metadata": {},
   "source": [
    "Also we don't care about the distinction between non-prompt and unmatched electrons, so let's set both categories to the value zeros."
   ]
  },
  {
   "cell_type": "code",
   "execution_count": 11,
   "metadata": {},
   "outputs": [],
   "source": [
    "df.loc[df[\"matchedToGenEle\"] != 1, \"matchedToGenEle\"] = 0"
   ]
  },
  {
   "cell_type": "markdown",
   "metadata": {},
   "source": [
    "Very good, now `matchedToGenEle = 1` corresponds to signal and `matchedToGenEle = 0` to background.\n",
    "\n",
    "Finally, we drop the electrons that fall outside the detector acceptance beyond $|\\eta|$ = 2.5 and throw out the electrons below 10 GeV as they are usually not used."
   ]
  },
  {
   "cell_type": "code",
   "execution_count": 12,
   "metadata": {},
   "outputs": [],
   "source": [
    "df = df.query(\"abs(scl_eta) < 2.5\")\n",
    "df = df.query(\"ele_pt >= 10\")"
   ]
  },
  {
   "cell_type": "markdown",
   "metadata": {},
   "source": [
    "Here is a little helper function to plot histograms with distributions for signal and background electrons."
   ]
  },
  {
   "cell_type": "code",
   "execution_count": 13,
   "metadata": {},
   "outputs": [],
   "source": [
    "import matplotlib.pyplot as plt\n",
    "import numpy as np\n",
    "\n",
    "def get_label(name):\n",
    "    if name == 0:\n",
    "        return \"background\"\n",
    "    else:\n",
    "        return \"signal\"\n",
    "\n",
    "def plot_electrons(df, column, bins, logscale=False, ax=None, title=None):\n",
    "    if ax is None:\n",
    "        ax = plt.gca()\n",
    "    for name, group in df.groupby(\"matchedToGenEle\"):\n",
    "        group[column].hist(bins=bins, histtype=\"step\", label=get_label(name), ax=ax, density=True)\n",
    "    ax.set_ylabel(\"density\")\n",
    "    ax.set_xlabel(column)\n",
    "    ax.legend()\n",
    "    ax.set_title(title)\n",
    "    if logscale:\n",
    "        ax.set_yscale(\"log\", nonposy='clip')"
   ]
  },
  {
   "cell_type": "markdown",
   "metadata": {},
   "source": [
    "Let's take a look at the $p_T$ and $\\eta$ distributions to see if they look as expected:"
   ]
  },
  {
   "cell_type": "code",
   "execution_count": 14,
   "metadata": {},
   "outputs": [
    {
     "data": {
      "image/png": "[encoded data removed]",
      "text/plain": [
       "<Figure size 1080x360 with 2 Axes>"
      ]
     },
     "metadata": {
      "needs_background": "light"
     },
     "output_type": "display_data"
    }
   ],
   "source": [
    "fig, axes = plt.subplots(1, 2, figsize=(15, 5))\n",
    "plot_electrons(df, \"ele_pt\", np.linspace(0, 100, 200), ax=axes[0])\n",
    "plot_electrons(df, \"scl_eta\", np.linspace(-2.5, 2.5, 50), ax=axes[1])\n",
    "plt.show()"
   ]
  },
  {
   "cell_type": "markdown",
   "metadata": {},
   "source": [
    "Seems reasonable! The true prompt electrons have the $p_T$ peak that you expect from Z boson decays, and the fakes have the expected exponential spectrum and are predominantly at high pseudorapidity.\n",
    "\n",
    "It's also interesting to look at the distributions for the MVA input variables (also called \"features\"). The `ele_oldsigmaietaieta` for example represents the spread of the electromagnetic shower and is more peaked and has smaller values for true electrons.\n",
    "\n",
    "Let's look at `ele_oldsigmaietaieta` separately for barrel and endcap:"
   ]
  },
  {
   "cell_type": "code",
   "execution_count": 15,
   "metadata": {},
   "outputs": [
    {
     "data": {
      "image/png": "[encoded data removed]",
      "text/plain": [
       "<Figure size 1080x360 with 2 Axes>"
      ]
     },
     "metadata": {
      "needs_background": "light"
     },
     "output_type": "display_data"
    }
   ],
   "source": [
    "fig, axes = plt.subplots(1, 2, figsize=(15, 5))\n",
    "plot_electrons(df.query(\"ele_isEB\"), \"ele_oldsigmaietaieta\", 100, ax=axes[0], title=\"Barrel\")\n",
    "plot_electrons(df.query(\"ele_isEE\"), \"ele_oldsigmaietaieta\", 100, ax=axes[1], title=\"Endcap\")\n",
    "plt.show()"
   ]
  },
  {
   "cell_type": "markdown",
   "metadata": {},
   "source": [
    "Look at the X axis! The values are very different for barrel and endcap, which is the case also for other features. That's why we will have different trainings for barrel and endcap (also called EB and EE for Electronmagnetic Barrel/Endcap). In Run 2, we even split up the barrel in two different training regions (so 3 in total), because depending on the inner tracker the material budget is very different for the central Ecal barrel and the outer barrel. Naturally, the material budget influences the electron ID variables a lot.\n",
    "\n",
    "At this point, feel free to look at other variables from the feature list below! Do you know what they represent? Unfortunately they are not explained in this tutorial, but there are many experts in CMS who are happy to explain them to you."
   ]
  },
  {
   "cell_type": "markdown",
   "metadata": {},
   "source": [
    "## Training the Boosted Decision Tree Classifiers\n",
    "\n",
    "Let's write down a list with the the names of the features we will use. There are separate lists for EB and EE, because in the endcap we can use the fraction of the preshower energy as an additional feature. There is not preshower detector in the barrel."
   ]
  },
  {
   "cell_type": "code",
   "execution_count": 16,
   "metadata": {},
   "outputs": [],
   "source": [
    "features_barrel = [\"ele_oldsigmaietaieta\", \"ele_oldsigmaiphiiphi\",\n",
    "            \"ele_oldcircularity\", \"ele_oldr9\", \"ele_scletawidth\",\n",
    "            \"ele_sclphiwidth\", \"ele_oldhe\", \"ele_kfhits\", \"ele_kfchi2\",\n",
    "            \"ele_gsfchi2\", \"ele_fbrem\", \"ele_gsfhits\",\n",
    "            \"ele_expected_inner_hits\", \"ele_conversionVertexFitProbability\",\n",
    "            \"ele_ep\", \"ele_eelepout\", \"ele_IoEmIop\", \"ele_deltaetain\",\n",
    "            \"ele_deltaphiin\", \"ele_deltaetaseed\", \"rho\",\n",
    "            \"ele_pfPhotonIso\", \"ele_pfChargedHadIso\", \"ele_pfNeutralHadIso\"]\n",
    "            \n",
    "features_endcap = features_barrel + [\"ele_psEoverEraw\"]"
   ]
  },
  {
   "cell_type": "code",
   "execution_count": 17,
   "metadata": {},
   "outputs": [],
   "source": [
    "from sklearn.model_selection import train_test_split\n",
    "import xgboost as xgb"
   ]
  },
  {
   "cell_type": "code",
   "execution_count": 18,
   "metadata": {},
   "outputs": [],
   "source": [
    "import xgboost2tmva"
   ]
  },
  {
   "cell_type": "code",
   "execution_count": 19,
   "metadata": {},
   "outputs": [],
   "source": [
    "n_boost_rounds = 10\n",
    "xgboost_params = {'eval_metric':'auc',\n",
    "                  'max_depth' : 4,\n",
    "                  'objective'  :'binary:logitraw'}"
   ]
  },
  {
   "cell_type": "code",
   "execution_count": 20,
   "metadata": {},
   "outputs": [],
   "source": [
    "category_titles = [\"EB1_5\", \"EB2_5\", \"EE_5\", \"EB1_10\", \"EB2_10\", \"EE_10\"]"
   ]
  },
  {
   "cell_type": "code",
   "execution_count": 21,
   "metadata": {},
   "outputs": [
    {
     "name": "stdout",
     "output_type": "stream",
     "text": [
      "EB1_10:\n",
      "training on 46516 signal and 4775 background electrons\n",
      "\n",
      "EB2_10:\n",
      "training on 37071 signal and 4799 background electrons\n",
      "\n",
      "EE_10:\n",
      "training on 47303 signal and 8446 background electrons\n",
      "\n"
     ]
    }
   ],
   "source": [
    "for i, group_df in df.groupby(\"EleMVACats\"):\n",
    "    \n",
    "    if i < 3:\n",
    "        continue\n",
    "\n",
    "    category = category_titles[i]\n",
    "    \n",
    "    features = features_endcap if \"EE\" in category else features_barrel\n",
    "    \n",
    "    X = group_df[features]\n",
    "    y = group_df[\"matchedToGenEle\"]\n",
    "\n",
    "    X_train, X_test, y_train, y_test = train_test_split(X, y, test_size=0.33, random_state=42)\n",
    "    idx_train = X_train.index\n",
    "    idx_test = X_test.index\n",
    "\n",
    "    dmatrix_train = xgb.DMatrix(X_train.copy(), label=np.copy(y_train))\n",
    "    dmatrix_test  = xgb.DMatrix(X_test.copy(), label=np.copy(y_test ))\n",
    "\n",
    "    n_pos = np.sum(y_train == 1)\n",
    "    n_neg = np.sum(y_train == 0)\n",
    "\n",
    "    print(category + \":\")\n",
    "    print(\"training on {0} signal and {1} background electrons\".format(n_pos, n_neg))\n",
    "\n",
    "    xgboost_params[\"scale_pos_weight\"] = 1. * n_neg / n_pos\n",
    "    model = xgb.train(xgboost_params, dmatrix_train, num_boost_round=n_boost_rounds,\n",
    "                      evals= [(dmatrix_train, 'train'),\n",
    "                               (dmatrix_test, 'test')],\n",
    "                      early_stopping_rounds=10,\n",
    "                      verbose_eval=False)\n",
    "    \n",
    "    best_iteration = model.best_iteration + 1\n",
    "    if best_iteration < n_boost_rounds:\n",
    "        print(\"early stopping after {0} boosting rounds\".format(best_iteration))\n",
    "    print(\"\")\n",
    "    \n",
    "    xgboost2tmva.convert_model(model.get_dump(),\n",
    "                               input_variables=[(f,'F') for f in features],\n",
    "                               output_xml='electron_id_{0}.xml'.format(i))\n",
    "    \n",
    "    model.save_model(\"electron_id_{0}.bin\".format(i))\n",
    "\n",
    "    df.loc[idx_train, \"score\"] = model.predict(dmatrix_train)\n",
    "    df.loc[idx_test, \"score\"] = model.predict(dmatrix_test)\n",
    "    \n",
    "    df.loc[idx_train, \"test\"] = False\n",
    "    df.loc[idx_test, \"test\"] = True"
   ]
  },
  {
   "cell_type": "code",
   "execution_count": 22,
   "metadata": {},
   "outputs": [],
   "source": [
    "from sklearn import metrics\n",
    "\n",
    "def plot_roc_curve(df, score_column, tpr_threshold=0.7, ax=None, color=None, linestyle='-', label=None):\n",
    "    if ax is None:\n",
    "        ax = plt.gca()\n",
    "    if label is None:\n",
    "        label = score_column\n",
    "    fpr, tpr, thresholds = metrics.roc_curve(df[\"matchedToGenEle\"], df[score_column])\n",
    "    mask = tpr > tpr_threshold\n",
    "    fpr, tpr = fpr[mask], tpr[mask]\n",
    "    ax.semilogy(tpr, fpr, label=label, color=color, linestyle=linestyle)"
   ]
  },
  {
   "cell_type": "code",
   "execution_count": 23,
   "metadata": {},
   "outputs": [
    {
     "data": {
      "image/png": "[encoded data removed]",
      "text/plain": [
       "<Figure size 1080x360 with 3 Axes>"
      ]
     },
     "metadata": {
      "needs_background": "light"
     },
     "output_type": "display_data"
    }
   ],
   "source": [
    "fig, axes = plt.subplots(1, 3, figsize=(15, 5))\n",
    "\n",
    "for i, df_group in df.groupby(\"EleMVACats\"):\n",
    "    \n",
    "    if i < 3:\n",
    "        continue\n",
    "    \n",
    "    df_train = df_group.query(\"not test\")\n",
    "    df_test = df_group.query(\"test\")\n",
    "    \n",
    "    \n",
    "    ax = axes[i%3]\n",
    "    plot_roc_curve(df_test, \"Fall17IsoV2RawVals\", ax=ax)\n",
    "    plot_roc_curve(df_test, \"score\", ax=ax, label=\"your new training (test sample)\")\n",
    "    plot_roc_curve(df_train, \"score\", ax=ax, color=\"#ff7f02\", linestyle='--', label=\"your new training (train sample)\")\n",
    "    ax.set_title(category_titles[i])\n",
    "    ax.legend()\n",
    "    ax.set_xlabel(\"Signal efficiency\")\n",
    "    ax.set_ylabel(\"Background efficiency\")\n",
    "    \n",
    "plt.show()"
   ]
  }
 ],
 "metadata": {
  "kernelspec": {
   "display_name": "Python 2",
   "language": "python",
   "name": "python2"
  },
  "language_info": {
   "codemirror_mode": {
    "name": "ipython",
    "version": 2
   },
   "file_extension": ".py",
   "mimetype": "text/x-python",
   "name": "python",
   "nbconvert_exporter": "python",
   "pygments_lexer": "ipython2",
   "version": "2.7.16"
  }
 },
 "nbformat": 4,
 "nbformat_minor": 2
}
